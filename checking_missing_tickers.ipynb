{
 "cells": [
  {
   "cell_type": "code",
   "execution_count": 1,
   "metadata": {
    "scrolled": true
   },
   "outputs": [
    {
     "name": "stdout",
     "output_type": "stream",
     "text": [
      "(332, 203)\n"
     ]
    }
   ],
   "source": [
    "import pandas as pd\n",
    "\n",
    "pd.options.display.max_columns = None\n",
    "pd.options.display.max_rows = None\n",
    "\n",
    "# Current announcement dataset\n",
    "df = pd.read_sas('pd_event_winsor.sas7bdat')\n",
    "\n",
    "# Current completion dataset\n",
    "df_comp = pd.read_sas('pd_completion_winsor.sas7bdat')\n",
    "\n",
    "# Old completion dataset for comparison purposes\n",
    "df_old = pd.read_sas('pd_comb_comp_lsa3.sas7bdat')\n",
    "print(df.shape)"
   ]
  },
  {
   "cell_type": "markdown",
   "metadata": {},
   "source": [
    "Checking unique tickers in datasets to see if there's any difference"
   ]
  },
  {
   "cell_type": "code",
   "execution_count": 2,
   "metadata": {},
   "outputs": [
    {
     "name": "stdout",
     "output_type": "stream",
     "text": [
      "149\n"
     ]
    }
   ],
   "source": [
    "# Convert tickers into lists of strings\n",
    "new_ticlist = [i.decode(\"utf-8\") for i in df.tic.unique()]\n",
    "old_ticlist = [i.decode(\"utf-8\") for i in df_old.tic.unique()]\n",
    "new_ticlist.sort()\n",
    "old_ticlist.sort()\n",
    "print(len(new_ticlist))"
   ]
  },
  {
   "cell_type": "markdown",
   "metadata": {},
   "source": [
    "The two should be identical - difference should return an empty set"
   ]
  },
  {
   "cell_type": "code",
   "execution_count": 3,
   "metadata": {},
   "outputs": [
    {
     "data": {
      "text/plain": [
       "set()"
      ]
     },
     "execution_count": 3,
     "metadata": {},
     "output_type": "execute_result"
    }
   ],
   "source": [
    "set(new_ticlist).difference(old_ticlist)"
   ]
  },
  {
   "cell_type": "markdown",
   "metadata": {},
   "source": [
    "Now that we know the two are identical, we can compare the 149 list to the 182 list\n",
    "\n",
    "Convert ticker list of 182 acquirers supplied by Natalya into a list of strings"
   ]
  },
  {
   "cell_type": "code",
   "execution_count": 4,
   "metadata": {},
   "outputs": [],
   "source": [
    "wrds = ['ABCB', 'AMNB', 'BAC', 'BANF', 'BBCN', 'BBT',\n",
    "'BCBP', 'BDGE', 'BFIN', 'BHB', 'BHLB', 'BKYF', 'BMO', \n",
    "'BMRC', 'BMTC', 'BNCL', 'BNCN', 'BNS', 'BRKL', 'BTC', \n",
    "'CART', 'CBIN', 'CBSH', 'CBU', 'CCNE', 'CFFI', 'CFNL', \n",
    "'CHCO', 'CHFC', 'CLFC', 'CMA', 'COF', 'COLB', 'CSBC', \n",
    "'CSFL', 'CTBI', 'CVBF', 'CVCY', 'CYN', 'DNBK', 'EBSB',\n",
    "'EFSC', 'ESSA', 'EVBN', 'EWBC', 'FBMS', 'FBNC', 'FCAL', \n",
    "'FCBC', 'FCCO', 'FCCY', 'FCLF', 'FCNCA', 'FFBC', 'FFCH', \n",
    "'FFIN', 'FFKY', 'FHN', 'FITB', 'FMBI', 'FMER', 'FNB', \n",
    "'FNFG', 'FPFC', 'FRME', 'FSFG', 'FUBC', 'GABC', 'GBCI', \n",
    "'GSBC', 'HBAN', 'HBCP', 'HBHC', 'HBNC', 'HBOS', 'HEOP', \n",
    "'HFWA', 'HIG', 'HMST', 'HNBC', 'HOMB', 'HOME', 'HTBI', \n",
    "'HTH', 'HTLF', 'IBKC', 'IBTX', 'INDB', 'ISBC', 'JFBI', \n",
    "'JPM', 'KFFB', 'KRNY', 'LARK', 'LBAI', 'LBCP', 'LCNB', \n",
    "'LION', 'MBFI', 'MBTF', 'MFSF', 'MSFG', 'MSL', 'MTB', \n",
    "'NBBC', 'NBTB', 'NBTF', 'NEBS', 'NHTB', 'NRIM', 'NWFL', \n",
    "'NYB', 'OKSB', 'OLBK', 'ONB', 'OSHC', 'OZRK', 'PACW', \n",
    "'PB', 'PBCT', 'PBSK', 'PCBK', 'PEBO', 'PFBI', 'PNC', \n",
    "'PPBI', 'PRSP', 'PSTB', 'PVTB', 'PWOD', 'QCRH', 'RBCAA', \n",
    "'RF', 'RIVR', 'RNST', 'ROMA', 'SASR', 'SAVB', 'SF', 'SFNC', \n",
    "'SIFI', 'SMBC', 'SNV', 'SONA', 'STBA', 'STBZ', 'STI', 'STSA',\n",
    "'SUSQ', 'SYBT', 'TCBK', 'TD', 'THFF', 'THRD', 'TMP', 'TOBC',\n",
    "'TOWN', 'TRMK', 'UBCP', 'UBNK', 'UBSH', 'UBSI', 'UMBF',\n",
    "'UMPQ', 'USB', 'VBFC', 'VIST', 'VLY', 'VPFG', 'WABC',\n",
    "'WAFD', 'WAL', 'WBCO', 'WFC', 'WFSL', 'WIBC', 'WSBC',\n",
    "'WSFS', 'WTFC', 'WTNY', 'XBKS', 'ZION']\n"
   ]
  },
  {
   "cell_type": "markdown",
   "metadata": {},
   "source": [
    "How many of the supplied tickers are missing from ticlist?"
   ]
  },
  {
   "cell_type": "code",
   "execution_count": 5,
   "metadata": {},
   "outputs": [
    {
     "data": {
      "text/plain": [
       "33"
      ]
     },
     "execution_count": 5,
     "metadata": {},
     "output_type": "execute_result"
    }
   ],
   "source": [
    "missings = set(wrds).difference(new_ticlist)\n",
    "len(missings)"
   ]
  },
  {
   "cell_type": "code",
   "execution_count": 6,
   "metadata": {},
   "outputs": [
    {
     "data": {
      "text/plain": [
       "33"
      ]
     },
     "execution_count": 6,
     "metadata": {},
     "output_type": "execute_result"
    }
   ],
   "source": [
    "oldmissings = set(wrds).difference(old_ticlist)\n",
    "len(missings)"
   ]
  },
  {
   "cell_type": "markdown",
   "metadata": {},
   "source": [
    "Which tickers are missing?"
   ]
  },
  {
   "cell_type": "code",
   "execution_count": 7,
   "metadata": {},
   "outputs": [
    {
     "data": {
      "text/plain": [
       "{'BANF',\n",
       " 'BBCN',\n",
       " 'BFIN',\n",
       " 'BMO',\n",
       " 'BNS',\n",
       " 'BTC',\n",
       " 'CBIN',\n",
       " 'CBSH',\n",
       " 'CTBI',\n",
       " 'FCCO',\n",
       " 'FCLF',\n",
       " 'FFKY',\n",
       " 'FITB',\n",
       " 'FPFC',\n",
       " 'GBCI',\n",
       " 'HBNC',\n",
       " 'HIG',\n",
       " 'LBCP',\n",
       " 'NEBS',\n",
       " 'NHTB',\n",
       " 'NYB',\n",
       " 'OSHC',\n",
       " 'PBSK',\n",
       " 'PRSP',\n",
       " 'QCRH',\n",
       " 'RBCAA',\n",
       " 'RF',\n",
       " 'SNV',\n",
       " 'STBZ',\n",
       " 'STI',\n",
       " 'TD',\n",
       " 'VPFG',\n",
       " 'WFSL'}"
      ]
     },
     "execution_count": 7,
     "metadata": {},
     "output_type": "execute_result"
    }
   ],
   "source": [
    "missings"
   ]
  },
  {
   "cell_type": "markdown",
   "metadata": {},
   "source": [
    "## Delisting codes for 7 of the 33 (182 - 149)\n",
    "\n",
    "This portion deals with the 33 tickers missing between the original sample and the Kamakura merge.\n",
    "\n",
    "Data also available in wrds_output_182.xlsx. \n",
    "\n",
    "\n",
    "| PERMNO | date      | TICKER | Company Name                     | Date of Delisting Payment | Delisting Code |\n",
    "|--------|-----------|--------|----------------------------------|---------------------------|----------------|\n",
    "| 11513  | 31-Dec-14 | FFKY   | FIRST FINANCIAL SERVICE CORP     | 2-Jan-15                  | 231            |\n",
    "| 10638  | 30-Apr-10 | HNBC   | HARLEYSVILLE NATIONAL CORP PA    | 12-Apr-10                 | 231            |\n",
    "| 91025  | 30-Nov-12 | NEBS   | NEW ENGLAND BANCSHARES INC       | 19-Nov-12                 | 231            |\n",
    "| 91400  | 30-Sep-16 | FCLF   | FIRST CLOVER LEAF FINANCIAL CORP | 9-Sep-16                  | 241            |\n",
    "| 90487  | 30-Nov-16 | OSHC   | OCEAN SHORE HOLDING CO NEW       | 1-Dec-16                  | 241            |\n",
    "| 91404  | 31-Mar-10 | LBCP   | LIBERTY BANCORP INC MO           | 3-Mar-10                  | 570            |\n",
    "| 86574  | 30-Nov-11 | FPFC   | FIRST PLACE FINANCIAL CORP NM    | 10-Nov-11                 | 584            |\n",
    "\n",
    "The remaining 26 don't have a delisting code.\n",
    "\n",
    "**Delisting Code/Meaning**\n",
    "\n",
    "231\tWhen merged, shareholders primarily receive common stock or ADRs. Replaces codes 201, 202 and 203. Codes 201-203 are no longer assigned.\n",
    "\n",
    "241\tWhen merged, shareholders primarily receive common stock and cash, issue on CRSP file.\n",
    "\n",
    "570\tDelisted by current exchange - company request (no reason given).\n",
    "\n",
    "584\tDelisted by current exchange - does not meet exchange’s financial guidelines for continued listing."
   ]
  },
  {
   "cell_type": "markdown",
   "metadata": {},
   "source": [
    "## Delisting codes for 32 of the 149\n",
    "\n",
    "This portion deals with the remaining 149 tickers. Of the 149, these 32 have delisting codes and dates between 1/2007 and 12/2016.\n",
    "\n",
    "Data also available in wrds_output_149.xlsx.\n",
    "\n",
    "| PERMNO | date      | TICKER | Company Name                     | Date of Delisting Payment | Delisting Code |\n",
    "|--------|-----------|--------|----------------------------------|---------------------------|----------------|\n",
    "| 89524  | 30-Nov-11 | CLFC   | CENTER FINANCIAL CORP            | 1-Dec-11                  | 231            |\n",
    "| 85980  | 28-Sep-12 | CSBC   | CITIZENS SOUTH BANKING CORP DEL  | 1-Oct-12                  | 231            |\n",
    "| 91897  | 31-May-13 | FCAL   | FIRST CALIFORNIA FINL GROUP INC  | 3-Jun-13                  | 231            |\n",
    "| 35503  | 31-Jul-13 | FFCH   | FIRST FINANCIAL HOLDINGS INC     | 29-Jul-13                 | 231            |\n",
    "| 93040  | 31-Oct-14 | FUBC   | 1ST UNITED BANCORP INC           | 3-Nov-14                  | 231            |\n",
    "| 90730  | 30-Jun-15 | HBOS   | HERITAGE FINANCIAL GROUP INC     | 1-Jul-15                  | 231            |\n",
    "| 10638  | 30-Apr-10 | HNBC   | HARLEYSVILLE NATIONAL CORP PA    | 12-Apr-10                 | 231            |\n",
    "| 89440  | 29-Feb-16 | NBBC   | NEWBRIDGE BANCORP                | 1-Mar-16                  | 231            |\n",
    "| 91407  | 31-Dec-13 | ROMA   | ROMA FINANCIAL CORP              | 9-Dec-13                  | 231            |\n",
    "| 76435  | 31-Dec-12 | SAVB   | SAVANNAH BANCORP INC             | 13-Dec-12                 | 231            |\n",
    "| 80768  | 31-Oct-14 | THRD   | T F FINANCIAL CORP               | 27-Oct-14                 | 231            |\n",
    "| 90824  | 30-Apr-14 | UBNK   | UNITED FINANCIAL BANCORP INC MD  | 1-May-14                  | 231            |\n",
    "| 79584  | 31-Aug-12 | VIST   | V I S T FINACIAL CORP            | 2-Aug-12                  | 231            |\n",
    "| 86440  | 29-Jul-16 | WIBC   | WILSHIRE BANCORP INC             | 1-Aug-16                  | 231            |\n",
    "| 90295  | 29-Jul-16 | XBKS   | XENITH BANKSHARES INC            | 1-Aug-16                  | 231            |\n",
    "| 76653  | 31-Oct-08 | AHG    | APRIA HEALTHCARE GROUP INC       | 29-Oct-08                 | 233            |\n",
    "| 20694  | 28-Nov-08 | UB     | UNIONBANCAL CORP                 | 4-Nov-08                  | 233            |\n",
    "| 92851  | 30-Jun-15 | BKYF   | BANK OF KENTUCKY FINANCIAL CORP  | 22-Jun-15                 | 241            |\n",
    "| 23916  | 30-Oct-15 | CYN    | CITY NATIONAL CORP               | 2-Nov-15                  | 241            |\n",
    "| 92522  | 30-Jun-11 | DNBK   | DANVERS BANCORP INC              | 1-Jul-11                  | 241            |\n",
    "| 35167  | 31-Aug-16 | FMER   | FIRSTMERIT CORP                  | 16-Aug-16                 | 241            |\n",
    "| 85994  | 29-Jul-16 | FNFG   | FIRST NIAGARA FINL GROUP INC NEW | 1-Aug-16                  | 241            |\n",
    "| 90482  | 30-May-14 | HOME   | HOME FEDERAL BANCORP INC MD      | 19-May-14                 | 241            |\n",
    "| 89798  | 30-May-14 | JFBI   | JEFFERSON BANCSHARES INC TENN    | 2-Jun-14                  | 241            |\n",
    "| 89758  | 31-Mar-15 | NBTF   | N B & T FINANCIAL GROUP INC      | 9-Mar-15                  | 241            |\n",
    "| 42307  | 30-Apr-08 | NX     | QUANEX CORP                      | 24-Apr-08                 | 241            |\n",
    "| 84331  | 29-Feb-16 | RIVR   | RIVER VALLEY BANCORP             | 1-Mar-16                  | 241            |\n",
    "| 11056  | 30-Apr-14 | STSA   | STERLING FINANCIAL CORP WASH     | 21-Apr-14                 | 241            |\n",
    "| 73809  | 31-Jul-15 | SUSQ   | SUSQUEHANNA BANCSHARES INC PA    | 3-Aug-15                  | 241            |\n",
    "| 92920  | 29-Feb-12 | TOBC   | TOWER BANCORP INC                | 21-Feb-12                 | 241            |\n",
    "| 86199  | 30-Apr-14 | WBCO   | WASHINGTON BANKING COMPANY       | 1-May-14                  | 241            |\n",
    "| 77053  | 30-Jun-11 | WTNY   | WHITNEY HOLDING CORP             | 7-Jun-11                  | 241            |\n",
    "\n",
    "**Delisting Code/Meaning**\n",
    "\n",
    "231\tWhen merged, shareholders primarily receive common stock or ADRs. Replaces codes 201, 202 and 203. Codes 201-203 are no longer assigned.\n",
    "\n",
    "233\tWhen merged, shareholders receive cash payments.\n",
    "\n",
    "241\tWhen merged, shareholders primarily receive common stock and cash, issue on CRSP file."
   ]
  }
 ],
 "metadata": {
  "kernelspec": {
   "display_name": "Python 3",
   "language": "python",
   "name": "python3"
  },
  "language_info": {
   "codemirror_mode": {
    "name": "ipython",
    "version": 3
   },
   "file_extension": ".py",
   "mimetype": "text/x-python",
   "name": "python",
   "nbconvert_exporter": "python",
   "pygments_lexer": "ipython3",
   "version": "3.6.2"
  }
 },
 "nbformat": 4,
 "nbformat_minor": 2
}
