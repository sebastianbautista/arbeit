{
 "cells": [
  {
   "cell_type": "markdown",
   "metadata": {},
   "source": [
    "# ML Lab\n",
    "In this notebook, I use the UCI bikeshare data to demonstrate preparing data and creating pipelines for machine learning.\n",
    "\n",
    "The focus here is on feature selection."
   ]
  },
  {
   "cell_type": "code",
   "execution_count": 1,
   "metadata": {},
   "outputs": [],
   "source": [
    "%matplotlib inline\n",
    "\n",
    "import numpy as np\n",
    "import pandas as pd\n",
    "import seaborn as sns\n",
    "import matplotlib.pyplot as plt\n",
    "\n",
    "sns.set(style='darkgrid', palette='colorblind')\n",
    "pd.options.display.max_rows = None\n",
    "pd.options.display.max_columns = None"
   ]
  },
  {
   "cell_type": "markdown",
   "metadata": {},
   "source": [
    "\t- instant: record index\n",
    "\t- dteday : date\n",
    "\t- season : season (1:springer, 2:summer, 3:fall, 4:winter)\n",
    "\t- yr : year (0: 2011, 1:2012)\n",
    "\t- mnth : month ( 1 to 12)\n",
    "\t- hr : hour (0 to 23)\n",
    "\t- holiday : weather day is holiday or not (extracted from http://dchr.dc.gov/page/holiday-schedule)\n",
    "\t- weekday : day of the week\n",
    "\t- workingday : if day is neither weekend nor holiday is 1, otherwise is 0.\n",
    "\t+ weathersit : \n",
    "\t\t- 1: Clear, Few clouds, Partly cloudy, Partly cloudy\n",
    "\t\t- 2: Mist + Cloudy, Mist + Broken clouds, Mist + Few clouds, Mist\n",
    "\t\t- 3: Light Snow, Light Rain + Thunderstorm + Scattered clouds, Light Rain + Scattered clouds\n",
    "\t\t- 4: Heavy Rain + Ice Pallets + Thunderstorm + Mist, Snow + Fog\n",
    "\t- temp : Normalized temperature in Celsius. The values are divided to 41 (max)\n",
    "\t- atemp: Normalized feeling temperature in Celsius. The values are divided to 50 (max)\n",
    "\t- hum: Normalized humidity. The values are divided to 100 (max)\n",
    "\t- windspeed: Normalized wind speed. The values are divided to 67 (max)\n",
    "\t- casual: count of casual users\n",
    "\t- registered: count of registered users\n",
    "\t- cnt: count of total rental bikes including both casual and registered"
   ]
  },
  {
   "cell_type": "markdown",
   "metadata": {},
   "source": [
    "# 0. Load data"
   ]
  },
  {
   "cell_type": "code",
   "execution_count": 2,
   "metadata": {},
   "outputs": [
    {
     "data": {
      "text/plain": [
       "(731, 16)"
      ]
     },
     "execution_count": 2,
     "metadata": {},
     "output_type": "execute_result"
    }
   ],
   "source": [
    "# What does our data look like?\n",
    "df = pd.read_csv('~/Desktop/py/data/day.csv')\n",
    "df.shape"
   ]
  },
  {
   "cell_type": "code",
   "execution_count": 3,
   "metadata": {
    "scrolled": true
   },
   "outputs": [
    {
     "data": {
      "text/html": [
       "<div>\n",
       "<style scoped>\n",
       "    .dataframe tbody tr th:only-of-type {\n",
       "        vertical-align: middle;\n",
       "    }\n",
       "\n",
       "    .dataframe tbody tr th {\n",
       "        vertical-align: top;\n",
       "    }\n",
       "\n",
       "    .dataframe thead th {\n",
       "        text-align: right;\n",
       "    }\n",
       "</style>\n",
       "<table border=\"1\" class=\"dataframe\">\n",
       "  <thead>\n",
       "    <tr style=\"text-align: right;\">\n",
       "      <th></th>\n",
       "      <th>count</th>\n",
       "      <th>mean</th>\n",
       "      <th>std</th>\n",
       "      <th>min</th>\n",
       "      <th>25%</th>\n",
       "      <th>50%</th>\n",
       "      <th>75%</th>\n",
       "      <th>max</th>\n",
       "    </tr>\n",
       "  </thead>\n",
       "  <tbody>\n",
       "    <tr>\n",
       "      <th>instant</th>\n",
       "      <td>731.0</td>\n",
       "      <td>366.000000</td>\n",
       "      <td>211.165812</td>\n",
       "      <td>1.000000</td>\n",
       "      <td>183.500000</td>\n",
       "      <td>366.000000</td>\n",
       "      <td>548.500000</td>\n",
       "      <td>731.000000</td>\n",
       "    </tr>\n",
       "    <tr>\n",
       "      <th>season</th>\n",
       "      <td>731.0</td>\n",
       "      <td>2.496580</td>\n",
       "      <td>1.110807</td>\n",
       "      <td>1.000000</td>\n",
       "      <td>2.000000</td>\n",
       "      <td>3.000000</td>\n",
       "      <td>3.000000</td>\n",
       "      <td>4.000000</td>\n",
       "    </tr>\n",
       "    <tr>\n",
       "      <th>yr</th>\n",
       "      <td>731.0</td>\n",
       "      <td>0.500684</td>\n",
       "      <td>0.500342</td>\n",
       "      <td>0.000000</td>\n",
       "      <td>0.000000</td>\n",
       "      <td>1.000000</td>\n",
       "      <td>1.000000</td>\n",
       "      <td>1.000000</td>\n",
       "    </tr>\n",
       "    <tr>\n",
       "      <th>mnth</th>\n",
       "      <td>731.0</td>\n",
       "      <td>6.519836</td>\n",
       "      <td>3.451913</td>\n",
       "      <td>1.000000</td>\n",
       "      <td>4.000000</td>\n",
       "      <td>7.000000</td>\n",
       "      <td>10.000000</td>\n",
       "      <td>12.000000</td>\n",
       "    </tr>\n",
       "    <tr>\n",
       "      <th>holiday</th>\n",
       "      <td>731.0</td>\n",
       "      <td>0.028728</td>\n",
       "      <td>0.167155</td>\n",
       "      <td>0.000000</td>\n",
       "      <td>0.000000</td>\n",
       "      <td>0.000000</td>\n",
       "      <td>0.000000</td>\n",
       "      <td>1.000000</td>\n",
       "    </tr>\n",
       "    <tr>\n",
       "      <th>weekday</th>\n",
       "      <td>731.0</td>\n",
       "      <td>2.997264</td>\n",
       "      <td>2.004787</td>\n",
       "      <td>0.000000</td>\n",
       "      <td>1.000000</td>\n",
       "      <td>3.000000</td>\n",
       "      <td>5.000000</td>\n",
       "      <td>6.000000</td>\n",
       "    </tr>\n",
       "    <tr>\n",
       "      <th>workingday</th>\n",
       "      <td>731.0</td>\n",
       "      <td>0.683995</td>\n",
       "      <td>0.465233</td>\n",
       "      <td>0.000000</td>\n",
       "      <td>0.000000</td>\n",
       "      <td>1.000000</td>\n",
       "      <td>1.000000</td>\n",
       "      <td>1.000000</td>\n",
       "    </tr>\n",
       "    <tr>\n",
       "      <th>weathersit</th>\n",
       "      <td>731.0</td>\n",
       "      <td>1.395349</td>\n",
       "      <td>0.544894</td>\n",
       "      <td>1.000000</td>\n",
       "      <td>1.000000</td>\n",
       "      <td>1.000000</td>\n",
       "      <td>2.000000</td>\n",
       "      <td>3.000000</td>\n",
       "    </tr>\n",
       "    <tr>\n",
       "      <th>temp</th>\n",
       "      <td>731.0</td>\n",
       "      <td>0.495385</td>\n",
       "      <td>0.183051</td>\n",
       "      <td>0.059130</td>\n",
       "      <td>0.337083</td>\n",
       "      <td>0.498333</td>\n",
       "      <td>0.655417</td>\n",
       "      <td>0.861667</td>\n",
       "    </tr>\n",
       "    <tr>\n",
       "      <th>atemp</th>\n",
       "      <td>731.0</td>\n",
       "      <td>0.474354</td>\n",
       "      <td>0.162961</td>\n",
       "      <td>0.079070</td>\n",
       "      <td>0.337842</td>\n",
       "      <td>0.486733</td>\n",
       "      <td>0.608602</td>\n",
       "      <td>0.840896</td>\n",
       "    </tr>\n",
       "    <tr>\n",
       "      <th>hum</th>\n",
       "      <td>731.0</td>\n",
       "      <td>0.627894</td>\n",
       "      <td>0.142429</td>\n",
       "      <td>0.000000</td>\n",
       "      <td>0.520000</td>\n",
       "      <td>0.626667</td>\n",
       "      <td>0.730209</td>\n",
       "      <td>0.972500</td>\n",
       "    </tr>\n",
       "    <tr>\n",
       "      <th>windspeed</th>\n",
       "      <td>731.0</td>\n",
       "      <td>0.190486</td>\n",
       "      <td>0.077498</td>\n",
       "      <td>0.022392</td>\n",
       "      <td>0.134950</td>\n",
       "      <td>0.180975</td>\n",
       "      <td>0.233214</td>\n",
       "      <td>0.507463</td>\n",
       "    </tr>\n",
       "    <tr>\n",
       "      <th>casual</th>\n",
       "      <td>731.0</td>\n",
       "      <td>848.176471</td>\n",
       "      <td>686.622488</td>\n",
       "      <td>2.000000</td>\n",
       "      <td>315.500000</td>\n",
       "      <td>713.000000</td>\n",
       "      <td>1096.000000</td>\n",
       "      <td>3410.000000</td>\n",
       "    </tr>\n",
       "    <tr>\n",
       "      <th>registered</th>\n",
       "      <td>731.0</td>\n",
       "      <td>3656.172367</td>\n",
       "      <td>1560.256377</td>\n",
       "      <td>20.000000</td>\n",
       "      <td>2497.000000</td>\n",
       "      <td>3662.000000</td>\n",
       "      <td>4776.500000</td>\n",
       "      <td>6946.000000</td>\n",
       "    </tr>\n",
       "    <tr>\n",
       "      <th>cnt</th>\n",
       "      <td>731.0</td>\n",
       "      <td>4504.348837</td>\n",
       "      <td>1937.211452</td>\n",
       "      <td>22.000000</td>\n",
       "      <td>3152.000000</td>\n",
       "      <td>4548.000000</td>\n",
       "      <td>5956.000000</td>\n",
       "      <td>8714.000000</td>\n",
       "    </tr>\n",
       "  </tbody>\n",
       "</table>\n",
       "</div>"
      ],
      "text/plain": [
       "            count         mean          std        min          25%  \\\n",
       "instant     731.0   366.000000   211.165812   1.000000   183.500000   \n",
       "season      731.0     2.496580     1.110807   1.000000     2.000000   \n",
       "yr          731.0     0.500684     0.500342   0.000000     0.000000   \n",
       "mnth        731.0     6.519836     3.451913   1.000000     4.000000   \n",
       "holiday     731.0     0.028728     0.167155   0.000000     0.000000   \n",
       "weekday     731.0     2.997264     2.004787   0.000000     1.000000   \n",
       "workingday  731.0     0.683995     0.465233   0.000000     0.000000   \n",
       "weathersit  731.0     1.395349     0.544894   1.000000     1.000000   \n",
       "temp        731.0     0.495385     0.183051   0.059130     0.337083   \n",
       "atemp       731.0     0.474354     0.162961   0.079070     0.337842   \n",
       "hum         731.0     0.627894     0.142429   0.000000     0.520000   \n",
       "windspeed   731.0     0.190486     0.077498   0.022392     0.134950   \n",
       "casual      731.0   848.176471   686.622488   2.000000   315.500000   \n",
       "registered  731.0  3656.172367  1560.256377  20.000000  2497.000000   \n",
       "cnt         731.0  4504.348837  1937.211452  22.000000  3152.000000   \n",
       "\n",
       "                    50%          75%          max  \n",
       "instant      366.000000   548.500000   731.000000  \n",
       "season         3.000000     3.000000     4.000000  \n",
       "yr             1.000000     1.000000     1.000000  \n",
       "mnth           7.000000    10.000000    12.000000  \n",
       "holiday        0.000000     0.000000     1.000000  \n",
       "weekday        3.000000     5.000000     6.000000  \n",
       "workingday     1.000000     1.000000     1.000000  \n",
       "weathersit     1.000000     2.000000     3.000000  \n",
       "temp           0.498333     0.655417     0.861667  \n",
       "atemp          0.486733     0.608602     0.840896  \n",
       "hum            0.626667     0.730209     0.972500  \n",
       "windspeed      0.180975     0.233214     0.507463  \n",
       "casual       713.000000  1096.000000  3410.000000  \n",
       "registered  3662.000000  4776.500000  6946.000000  \n",
       "cnt         4548.000000  5956.000000  8714.000000  "
      ]
     },
     "execution_count": 3,
     "metadata": {},
     "output_type": "execute_result"
    }
   ],
   "source": [
    "df.describe().transpose()"
   ]
  },
  {
   "cell_type": "markdown",
   "metadata": {},
   "source": [
    "Since we want to focus on total rides ('cnt'), we'll want to drop casual and registered.\n",
    "\n",
    "We can also drop the datetime variable 'dteday' and keep 'instant' as a quasi-time variable (increments by 1 every day).\n",
    "\n",
    "We may also want to drop one of temp and atemp since they are so highly collinear. Atemp is probably more important since what the temperature 'feels like' is more likely than the actual temperature to affect a person's decision whether or not to bike."
   ]
  },
  {
   "cell_type": "markdown",
   "metadata": {},
   "source": [
    "# 1. Select our y variable\n",
    "We are interested in total rides, so we choose 'cnt'."
   ]
  },
  {
   "cell_type": "code",
   "execution_count": 8,
   "metadata": {},
   "outputs": [],
   "source": [
    "y_cols = ['casual', 'registered', 'cnt']\n",
    "y = df[y_cols[-1]]"
   ]
  },
  {
   "cell_type": "markdown",
   "metadata": {},
   "source": [
    "# 2. Select our X for further processing\n",
    "Drop unneeded variables"
   ]
  },
  {
   "cell_type": "code",
   "execution_count": 9,
   "metadata": {},
   "outputs": [
    {
     "data": {
      "text/plain": [
       "(731, 11)"
      ]
     },
     "execution_count": 9,
     "metadata": {},
     "output_type": "execute_result"
    }
   ],
   "source": [
    "feature_cols = [col for col in df.columns if (col not in y_cols) & (col not in ['dteday', 'temp'])]\n",
    "Xraw = df[feature_cols]\n",
    "Xraw.shape"
   ]
  },
  {
   "cell_type": "markdown",
   "metadata": {},
   "source": [
    "# 3. Train-test-split"
   ]
  },
  {
   "cell_type": "code",
   "execution_count": 10,
   "metadata": {},
   "outputs": [
    {
     "data": {
      "text/html": [
       "<div>\n",
       "<style scoped>\n",
       "    .dataframe tbody tr th:only-of-type {\n",
       "        vertical-align: middle;\n",
       "    }\n",
       "\n",
       "    .dataframe tbody tr th {\n",
       "        vertical-align: top;\n",
       "    }\n",
       "\n",
       "    .dataframe thead th {\n",
       "        text-align: right;\n",
       "    }\n",
       "</style>\n",
       "<table border=\"1\" class=\"dataframe\">\n",
       "  <thead>\n",
       "    <tr style=\"text-align: right;\">\n",
       "      <th></th>\n",
       "      <th>instant</th>\n",
       "      <th>season</th>\n",
       "      <th>yr</th>\n",
       "      <th>mnth</th>\n",
       "      <th>holiday</th>\n",
       "      <th>weekday</th>\n",
       "      <th>workingday</th>\n",
       "      <th>weathersit</th>\n",
       "      <th>atemp</th>\n",
       "      <th>hum</th>\n",
       "      <th>windspeed</th>\n",
       "    </tr>\n",
       "  </thead>\n",
       "  <tbody>\n",
       "    <tr>\n",
       "      <th>402</th>\n",
       "      <td>403</td>\n",
       "      <td>1</td>\n",
       "      <td>1</td>\n",
       "      <td>2</td>\n",
       "      <td>0</td>\n",
       "      <td>2</td>\n",
       "      <td>1</td>\n",
       "      <td>1</td>\n",
       "      <td>0.361104</td>\n",
       "      <td>0.496250</td>\n",
       "      <td>0.147379</td>\n",
       "    </tr>\n",
       "    <tr>\n",
       "      <th>270</th>\n",
       "      <td>271</td>\n",
       "      <td>4</td>\n",
       "      <td>0</td>\n",
       "      <td>9</td>\n",
       "      <td>0</td>\n",
       "      <td>3</td>\n",
       "      <td>1</td>\n",
       "      <td>2</td>\n",
       "      <td>0.575158</td>\n",
       "      <td>0.848750</td>\n",
       "      <td>0.148629</td>\n",
       "    </tr>\n",
       "    <tr>\n",
       "      <th>433</th>\n",
       "      <td>434</td>\n",
       "      <td>1</td>\n",
       "      <td>1</td>\n",
       "      <td>3</td>\n",
       "      <td>0</td>\n",
       "      <td>5</td>\n",
       "      <td>1</td>\n",
       "      <td>2</td>\n",
       "      <td>0.397083</td>\n",
       "      <td>0.407083</td>\n",
       "      <td>0.414800</td>\n",
       "    </tr>\n",
       "    <tr>\n",
       "      <th>680</th>\n",
       "      <td>681</td>\n",
       "      <td>4</td>\n",
       "      <td>1</td>\n",
       "      <td>11</td>\n",
       "      <td>0</td>\n",
       "      <td>0</td>\n",
       "      <td>0</td>\n",
       "      <td>1</td>\n",
       "      <td>0.421713</td>\n",
       "      <td>0.659167</td>\n",
       "      <td>0.127500</td>\n",
       "    </tr>\n",
       "    <tr>\n",
       "      <th>349</th>\n",
       "      <td>350</td>\n",
       "      <td>4</td>\n",
       "      <td>0</td>\n",
       "      <td>12</td>\n",
       "      <td>0</td>\n",
       "      <td>5</td>\n",
       "      <td>1</td>\n",
       "      <td>2</td>\n",
       "      <td>0.359825</td>\n",
       "      <td>0.500417</td>\n",
       "      <td>0.260575</td>\n",
       "    </tr>\n",
       "  </tbody>\n",
       "</table>\n",
       "</div>"
      ],
      "text/plain": [
       "     instant  season  yr  mnth  holiday  weekday  workingday  weathersit  \\\n",
       "402      403       1   1     2        0        2           1           1   \n",
       "270      271       4   0     9        0        3           1           2   \n",
       "433      434       1   1     3        0        5           1           2   \n",
       "680      681       4   1    11        0        0           0           1   \n",
       "349      350       4   0    12        0        5           1           2   \n",
       "\n",
       "        atemp       hum  windspeed  \n",
       "402  0.361104  0.496250   0.147379  \n",
       "270  0.575158  0.848750   0.148629  \n",
       "433  0.397083  0.407083   0.414800  \n",
       "680  0.421713  0.659167   0.127500  \n",
       "349  0.359825  0.500417   0.260575  "
      ]
     },
     "execution_count": 10,
     "metadata": {},
     "output_type": "execute_result"
    }
   ],
   "source": [
    "from sklearn.model_selection import train_test_split as tts\n",
    "\n",
    "Xtrain, Xtest, ytrain, ytest = tts(Xraw, y, test_size=0.2)\n",
    "\n",
    "Xtrain.head()"
   ]
  },
  {
   "cell_type": "markdown",
   "metadata": {},
   "source": [
    "# 4. Preprocessing pipeline"
   ]
  },
  {
   "cell_type": "code",
   "execution_count": 11,
   "metadata": {},
   "outputs": [
    {
     "name": "stdout",
     "output_type": "stream",
     "text": [
      "(584, 77) (147, 77)\n"
     ]
    }
   ],
   "source": [
    "from sklearn.pipeline import Pipeline\n",
    "from sklearn.preprocessing import PolynomialFeatures\n",
    "from sklearn.preprocessing import StandardScaler\n",
    "\n",
    "processpipe = Pipeline([\n",
    "    ('poly', PolynomialFeatures(2, include_bias=False)),\n",
    "    ('scaler', StandardScaler()),\n",
    "])\n",
    "\n",
    "# Run train and test X matrices through pipeline\n",
    "Xtrain_scaled = processpipe.fit_transform(Xtrain)\n",
    "Xtest_scaled = processpipe.transform(Xtest)\n",
    "\n",
    "# Get all of the feature names created by poly\n",
    "Xtrain_cols = processpipe.named_steps['poly'].get_feature_names(Xtrain.columns)\n",
    "Xtest_cols = processpipe.named_steps['poly'].get_feature_names(Xtest.columns)\n",
    "\n",
    "Xtrain = pd.DataFrame(Xtrain_scaled, columns=Xtrain_cols)\n",
    "Xtest = pd.DataFrame(Xtest_scaled, columns=Xtest_cols)\n",
    "print(Xtrain.shape, Xtest.shape)"
   ]
  },
  {
   "cell_type": "markdown",
   "metadata": {},
   "source": [
    "# 5. Feature selection\n",
    "Now that we have interaction/squared terms and scaled variables, we can perform feature selection.\n",
    "\n",
    "First we can try ElasticNet and Lasso using SelectFromModel and see how they compare to f_regression."
   ]
  },
  {
   "cell_type": "code",
   "execution_count": 16,
   "metadata": {},
   "outputs": [
    {
     "name": "stderr",
     "output_type": "stream",
     "text": [
      "c:\\econsw\\python36\\lib\\site-packages\\sklearn\\linear_model\\coordinate_descent.py:491: ConvergenceWarning: Objective did not converge. You might want to increase the number of iterations. Fitting data with very small alpha may cause precision problems.\n",
      "  ConvergenceWarning)\n"
     ]
    },
    {
     "name": "stdout",
     "output_type": "stream",
     "text": [
      "Index(['instant', 'season', 'yr', 'weathersit', 'atemp', 'windspeed',\n",
      "       'instant season', 'instant yr', 'instant weekday', 'instant workingday',\n",
      "       'instant atemp', 'season yr', 'season atemp', 'yr^2', 'yr weekday',\n",
      "       'yr workingday', 'yr atemp', 'mnth^2', 'mnth weathersit', 'mnth atemp',\n",
      "       'weekday atemp', 'workingday atemp', 'weathersit^2', 'weathersit atemp',\n",
      "       'weathersit hum', 'weathersit windspeed', 'atemp^2', 'atemp hum',\n",
      "       'atemp windspeed', 'hum^2', 'hum windspeed', 'windspeed^2'],\n",
      "      dtype='object')\n",
      "32\n"
     ]
    }
   ],
   "source": [
    "'''Elastic Net with Select From Model'''\n",
    "from sklearn.linear_model import ElasticNetCV\n",
    "from sklearn.feature_selection import SelectFromModel\n",
    "\n",
    "alphas = np.logspace(-10, 0, 200)\n",
    "l1_ratio = [.1, .5, .7, .9, .95, .99, 1]\n",
    "\n",
    "en = ElasticNetCV(l1_ratio=l1_ratio, alphas=alphas, fit_intercept=False)\n",
    "sfm = SelectFromModel(en)\n",
    "Xtrain_en = sfm.fit_transform(Xtrain, ytrain)\n",
    "Xtest_en = sfm.transform(Xtest)\n",
    "\n",
    "mask = sfm.get_support()\n",
    "selected_columns_en = Xtrain.columns[mask]\n",
    "Xtrain_en = pd.DataFrame(Xtrain_en, columns=selected_columns_en)\n",
    "Xtest_en = pd.DataFrame(Xtest_en, columns=selected_columns_en)\n",
    "print(selected_columns_en)\n",
    "print(\"Elastic Net selects \",len(selected_columns_en),\" features\")"
   ]
  },
  {
   "cell_type": "code",
   "execution_count": null,
   "metadata": {},
   "outputs": [],
   "source": [
    "'''Elastic Net with RFE - THIS CELL TAKES DAYS TO RUN\n",
    "\n",
    "from sklearn.linear_model import ElasticNetCV\n",
    "from sklearn.feature_selection import RFECV\n",
    "\n",
    "alphas = np.logspace(-10, 10, 200)\n",
    "l1_ratio = [.1, .5, .7, .9, .95, .99, 1]\n",
    "\n",
    "en = ElasticNetCV(fit_intercept=False)\n",
    "rfe = RFECV(en)\n",
    "Xtrain_enrfe = rfe.fit_transform(Xtrain, ytrain)\n",
    "Xtest_enrfe = rfe.transform(Xtest)\n",
    "\n",
    "mask = rfe.get_support()\n",
    "selected_columns_enrfe = Xtrain.columns[mask]\n",
    "Xtrain_enrfe = pd.DataFrame(Xtrain_enrfe, columns=selected_columns_enrfe)\n",
    "Xtest_enrfe = pd.DataFrame(Xtest_enrfe, columns=selected_columns_enrfe)\n",
    "print(selected_columns_enrfe)\n",
    "'''"
   ]
  },
  {
   "cell_type": "code",
   "execution_count": 25,
   "metadata": {
    "scrolled": true
   },
   "outputs": [
    {
     "name": "stderr",
     "output_type": "stream",
     "text": [
      "c:\\econsw\\python36\\lib\\site-packages\\sklearn\\linear_model\\coordinate_descent.py:491: ConvergenceWarning: Objective did not converge. You might want to increase the number of iterations. Fitting data with very small alpha may cause precision problems.\n",
      "  ConvergenceWarning)\n"
     ]
    },
    {
     "name": "stdout",
     "output_type": "stream",
     "text": [
      "Index(['instant', 'season', 'yr', 'mnth', 'holiday', 'weekday', 'workingday',\n",
      "       'weathersit', 'atemp', 'hum', 'windspeed', 'instant^2', 'instant mnth',\n",
      "       'instant holiday', 'instant weekday', 'instant workingday',\n",
      "       'instant weathersit', 'instant atemp', 'instant hum',\n",
      "       'instant windspeed', 'season^2', 'season yr', 'season holiday',\n",
      "       'season weekday', 'season workingday', 'season weathersit',\n",
      "       'season atemp', 'season windspeed', 'yr^2', 'yr mnth', 'yr holiday',\n",
      "       'yr weekday', 'yr weathersit', 'mnth^2', 'mnth weekday',\n",
      "       'mnth workingday', 'mnth atemp', 'mnth hum', 'holiday^2',\n",
      "       'holiday weekday', 'holiday weathersit', 'holiday atemp', 'holiday hum',\n",
      "       'holiday windspeed', 'weekday workingday', 'weekday atemp',\n",
      "       'weekday hum', 'weekday windspeed', 'workingday^2', 'workingday atemp',\n",
      "       'workingday hum', 'workingday windspeed', 'weathersit^2',\n",
      "       'weathersit atemp', 'weathersit windspeed', 'atemp^2', 'atemp hum',\n",
      "       'atemp windspeed', 'hum^2', 'hum windspeed', 'windspeed^2'],\n",
      "      dtype='object')\n",
      "Lasso selects  61  features\n"
     ]
    },
    {
     "name": "stderr",
     "output_type": "stream",
     "text": [
      "c:\\econsw\\python36\\lib\\site-packages\\sklearn\\linear_model\\coordinate_descent.py:491: ConvergenceWarning: Objective did not converge. You might want to increase the number of iterations. Fitting data with very small alpha may cause precision problems.\n",
      "  ConvergenceWarning)\n"
     ]
    }
   ],
   "source": [
    "'''Lasso with Select From Model'''\n",
    "from sklearn.linear_model import LassoCV\n",
    "from sklearn.feature_selection import SelectFromModel\n",
    "\n",
    "alphas = np.logspace(-10, 0, 200)\n",
    "\n",
    "la = LassoCV(alphas=alphas, fit_intercept=False)\n",
    "sfm = SelectFromModel(la)\n",
    "Xtrain_la = sfm.fit_transform(Xtrain, ytrain)\n",
    "Xtest_la = sfm.transform(Xtest)\n",
    "\n",
    "mask = sfm.get_support()\n",
    "selected_columns_la = Xtrain.columns[mask]\n",
    "Xtrain_la = pd.DataFrame(Xtrain_la, columns=selected_columns_la)\n",
    "Xtest_la = pd.DataFrame(Xtest_la, columns=selected_columns_la)\n",
    "print(selected_columns_la)\n",
    "print(\"Lasso selects \",len(selected_columns_la),\" features\")"
   ]
  },
  {
   "cell_type": "code",
   "execution_count": 38,
   "metadata": {
    "scrolled": true
   },
   "outputs": [
    {
     "name": "stdout",
     "output_type": "stream",
     "text": [
      "What variables do both select?\n",
      "{'instant workingday', 'instant weekday', 'weathersit windspeed', 'weathersit atemp', 'season', 'instant', 'weathersit^2', 'yr', 'hum^2', 'hum windspeed', 'mnth atemp', 'atemp', 'atemp hum', 'yr^2', 'weekday atemp', 'yr weekday', 'mnth^2', 'season yr', 'windspeed', 'season atemp', 'weathersit', 'atemp windspeed', 'instant atemp', 'windspeed^2', 'atemp^2', 'workingday atemp'}\n",
      "\n",
      "What variables are selected by one but not the other?\n",
      "{'instant yr', 'instant season', 'mnth weathersit', 'weathersit hum', 'yr atemp', 'yr workingday'}\n",
      "\n",
      "What variables are in one or another but not both?\n",
      "{'holiday weekday', 'season workingday', 'holiday', 'instant holiday', 'workingday hum', 'holiday^2', 'instant mnth', 'season weekday', 'workingday^2', 'mnth', 'instant yr', 'workingday windspeed', 'instant^2', 'yr weathersit', 'instant season', 'season windspeed', 'instant weathersit', 'mnth weathersit', 'mnth hum', 'holiday atemp', 'instant hum', 'weathersit hum', 'yr atemp', 'yr workingday', 'yr holiday', 'season^2', 'mnth weekday', 'holiday windspeed', 'season weathersit', 'season holiday', 'mnth workingday', 'weekday hum', 'workingday', 'holiday weathersit', 'weekday workingday', 'weekday windspeed', 'yr mnth', 'instant windspeed', 'weekday', 'holiday hum', 'hum'}\n"
     ]
    }
   ],
   "source": [
    "print(\"What variables do both select?\")\n",
    "print(set(selected_columns_en).intersection(selected_columns_la))\n",
    "\n",
    "print(\"\\nWhat variables are selected by one but not the other?\")\n",
    "print(set(selected_columns_en).difference(selected_columns_la))\n",
    "\n",
    "print(\"\\nWhat variables are in one or another but not both?\")\n",
    "print(set(selected_columns_en).symmetric_difference(selected_columns_la))\n",
    "\n",
    "la_en_selected = list(set(selected_columns_en).intersection(selected_columns_la))"
   ]
  },
  {
   "cell_type": "markdown",
   "metadata": {},
   "source": [
    "Now to try f_regression to see how the results turn out."
   ]
  },
  {
   "cell_type": "code",
   "execution_count": 36,
   "metadata": {
    "scrolled": true
   },
   "outputs": [
    {
     "name": "stdout",
     "output_type": "stream",
     "text": [
      "Index(['instant', 'season', 'yr', 'atemp', 'instant^2', 'instant season',\n",
      "       'instant yr', 'instant mnth', 'instant weekday', 'instant workingday',\n",
      "       'instant atemp', 'instant hum', 'instant windspeed', 'season^2',\n",
      "       'season yr', 'season atemp', 'yr^2', 'yr mnth', 'yr weekday',\n",
      "       'yr workingday', 'yr weathersit', 'yr atemp', 'yr hum', 'yr windspeed',\n",
      "       'mnth atemp', 'weekday atemp', 'workingday atemp',\n",
      "       'weathersit windspeed', 'atemp^2', 'atemp hum'],\n",
      "      dtype='object')\n",
      "F_regression selects 30 features (by design)\n"
     ]
    },
    {
     "name": "stderr",
     "output_type": "stream",
     "text": [
      "c:\\econsw\\python36\\lib\\site-packages\\sklearn\\feature_selection\\univariate_selection.py:298: RuntimeWarning: invalid value encountered in true_divide\n",
      "  corr /= X_norms\n",
      "c:\\econsw\\python36\\lib\\site-packages\\scipy\\stats\\_distn_infrastructure.py:879: RuntimeWarning: invalid value encountered in greater\n",
      "  return (self.a < x) & (x < self.b)\n",
      "c:\\econsw\\python36\\lib\\site-packages\\scipy\\stats\\_distn_infrastructure.py:879: RuntimeWarning: invalid value encountered in less\n",
      "  return (self.a < x) & (x < self.b)\n",
      "c:\\econsw\\python36\\lib\\site-packages\\scipy\\stats\\_distn_infrastructure.py:1821: RuntimeWarning: invalid value encountered in less_equal\n",
      "  cond2 = cond0 & (x <= self.a)\n"
     ]
    }
   ],
   "source": [
    "'''f_regression with SelectKBest'''\n",
    "\n",
    "from sklearn.feature_selection import f_regression, SelectKBest\n",
    "\n",
    "skb = SelectKBest(f_regression, k=30)\n",
    "skb.fit(Xtrain, ytrain)\n",
    "Xtrain_fr = skb.transform(Xtrain)\n",
    "Xtest_fr = skb.transform(Xtest)\n",
    "\n",
    "mask = skb.get_support()\n",
    "selected_columns_fr = Xtrain.columns[mask]\n",
    "Xtrain_fr = pd.DataFrame(Xtrain_fr, columns=selected_columns_fr)\n",
    "Xtest_fr = pd.DataFrame(Xtest_fr, columns=selected_columns_fr)\n",
    "print(selected_columns_fr)\n",
    "print(\"F_regression selects\",len(selected_columns_fr),\"features (by design)\")"
   ]
  },
  {
   "cell_type": "code",
   "execution_count": 40,
   "metadata": {},
   "outputs": [
    {
     "name": "stdout",
     "output_type": "stream",
     "text": [
      "What variables do all 3 select?\n",
      "{'instant', 'yr', 'season atemp', 'weekday atemp', 'season yr', 'instant workingday', 'instant weekday', 'mnth atemp', 'weathersit windspeed', 'atemp', 'instant atemp', 'atemp^2', 'workingday atemp', 'atemp hum', 'yr^2', 'yr weekday', 'season'}\n"
     ]
    }
   ],
   "source": [
    "print(\"What variables do all 3 select?\")\n",
    "print(set(selected_columns_fr).intersection(la_en_selected))\n",
    "\n",
    "selected_columns = list(set(selected_columns_fr).intersection(la_en_selected))"
   ]
  },
  {
   "cell_type": "markdown",
   "metadata": {},
   "source": [
    "To do: add more feature selection. I continue on with model fitting in the bikeshare_ml_fitting.ipynb notebook."
   ]
  }
 ],
 "metadata": {
  "kernelspec": {
   "display_name": "Python 3",
   "language": "python",
   "name": "python3"
  },
  "language_info": {
   "codemirror_mode": {
    "name": "ipython",
    "version": 3
   },
   "file_extension": ".py",
   "mimetype": "text/x-python",
   "name": "python",
   "nbconvert_exporter": "python",
   "pygments_lexer": "ipython3",
   "version": "3.6.2"
  }
 },
 "nbformat": 4,
 "nbformat_minor": 2
}
