{
 "cells": [
  {
   "cell_type": "markdown",
   "metadata": {},
   "source": [
    "# Programming Club - Regressions in Python using statsmodels and linearmodels\n",
    "In this notebook, I go through a few ways to estimate regression models in Python - OLS, OLS with cluster-robust standard errors, and a two-way fixed effects model, using [Y, X] and R-style syntax.\n",
    "I also briefly go over regression diagnostic plots."
   ]
  },
  {
   "cell_type": "code",
   "execution_count": 1,
   "metadata": {
    "scrolled": false
   },
   "outputs": [
    {
     "name": "stdout",
     "output_type": "stream",
     "text": [
      "df0 dimensions:  (960, 38)\n",
      "df dimensions:  (780, 38)\n"
     ]
    },
    {
     "data": {
      "text/plain": [
       "Index(['Date', 'ID', 'Institution', 'City', 'Total_Assets_c',\n",
       "       'Total_Liabilities_c', 'Total_Deposits_c', 'Total_Gross_Loans_c',\n",
       "       'Total_Net_Loans_c', 'Net_Interest_Margin_c', 'Tier_1_c',\n",
       "       'NPAs_Assets_c', 'Total_Dividends_Paid_SNL', 'Franchise_Value_c',\n",
       "       'year', 'Log_Total_Assets', 'Core_to_Total_Dep', 'In_to_Assets_Occr',\n",
       "       'In_to_Assets_Disc', 'In_to_Assets_Acct', 'Ex_to_Assets_Occr',\n",
       "       'Ex_to_Assets_Disc', 'Ex_to_Assets_Acct', 'Total_to_Assets_Occr',\n",
       "       'Total_to_Assets_Disc', 'Total_to_Assets_Acct',\n",
       "       'In_Exp_to_Assets_OrigA', 'In_Exp_to_Assets_OrigD',\n",
       "       'In_Exp_to_Assets_OccrA', 'In_Exp_to_Assets_OccrD',\n",
       "       'Ex_Exp_to_Assets_OrigA', 'Ex_Exp_to_Assets_OrigD',\n",
       "       'Ex_Exp_to_Assets_OccrA', 'Ex_Exp_to_Assets_OccrD',\n",
       "       'Total_Exp_to_Assets_OrigA', 'Total_Exp_to_Assets_OrigD',\n",
       "       'Total_Exp_to_Assets_OccrA', 'Total_Exp_to_Assets_OccrD'],\n",
       "      dtype='object')"
      ]
     },
     "execution_count": 1,
     "metadata": {},
     "output_type": "execute_result"
    }
   ],
   "source": [
    "'''Importing packages and data preparation'''\n",
    "\n",
    "import pandas as pd\n",
    "\n",
    "# Read in SAS data - SNL and IBIS call report data merged with Y-14 operational risk data\n",
    "df0 = pd.read_sas(\"~/Desktop/py/data/snlopsrisk_working.sas7bdat\")\n",
    "print(\"df0 dimensions: \", df0.shape)\n",
    "\n",
    "# Drop missings\n",
    "df = df0.dropna()\n",
    "\n",
    "# Print shape and variable names\n",
    "print(\"df dimensions: \", df.shape)\n",
    "df.columns"
   ]
  },
  {
   "cell_type": "code",
   "execution_count": 2,
   "metadata": {
    "scrolled": true
   },
   "outputs": [
    {
     "name": "stdout",
     "output_type": "stream",
     "text": [
      "Institution\n",
      "b'Bank of America Corporation'            64\n",
      "b'Bank of New York Mellon Corporation'    35\n",
      "b'Capital One Financial Corporation'      46\n",
      "b'Citigroup Inc.'                         64\n",
      "b'Citizens Financial Group, Inc.'          6\n",
      "b'Comerica Incorporated'                  64\n",
      "b'Huntington Bancshares Incorporated'     64\n",
      "b'JPMORGAN CHASE & CO.'                   62\n",
      "b'KeyCorp'                                64\n",
      "b'M&T Bank Corporation'                   64\n",
      "b'PNC Financial Services Group, Inc.'     57\n",
      "b'U.S. Bancorp'                           62\n",
      "b'Wells Fargo & Company'                  64\n",
      "b'Zions Bancorporation'                   64\n",
      "Name: Date, dtype: int64\n"
     ]
    }
   ],
   "source": [
    "# Which BHCs are we looking at? Do we have balanced panels?\n",
    "print(df.groupby('Institution')['Date'].nunique())"
   ]
  },
  {
   "cell_type": "code",
   "execution_count": 3,
   "metadata": {
    "scrolled": true
   },
   "outputs": [
    {
     "name": "stdout",
     "output_type": "stream",
     "text": [
      "                 ID  Total_Assets_c  Total_Liabilities_c  Total_Deposits_c  \\\n",
      "count  7.800000e+02    7.800000e+02         7.800000e+02      7.800000e+02   \n",
      "mean   1.337076e+06    5.507685e+08         4.985234e+08      2.867227e+08   \n",
      "std    6.044508e+05    7.237318e+08         6.577198e+08      3.506807e+08   \n",
      "min    1.027004e+06    2.099656e+07         1.916344e+07      1.451398e+07   \n",
      "25%    1.068025e+06    6.077213e+07         5.408925e+07      4.500222e+07   \n",
      "50%    1.073757e+06    1.787445e+08         1.542640e+08      1.153775e+08   \n",
      "75%    1.199844e+06    7.451082e+08         6.963205e+08      3.546570e+08   \n",
      "max    3.587146e+06    2.576619e+09         2.340755e+09      1.367887e+09   \n",
      "\n",
      "       Total_Gross_Loans_c  Total_Net_Loans_c  Net_Interest_Margin_c  \\\n",
      "count         7.800000e+02       7.800000e+02             780.000000   \n",
      "mean          2.443800e+08       2.384624e+08               3.550069   \n",
      "std           2.845430e+08       2.768450e+08               1.088946   \n",
      "min           1.312436e+07       1.292430e+07               0.911465   \n",
      "25%           4.226853e+07       4.170425e+07               2.934097   \n",
      "50%           7.362550e+07       7.233350e+07               3.451248   \n",
      "75%           3.779085e+08       3.718190e+08               4.022126   \n",
      "max           1.017222e+09       9.881740e+08               7.397018   \n",
      "\n",
      "         Tier_1_c  NPAs_Assets_c  Total_Dividends_Paid_SNL  Franchise_Value_c  \\\n",
      "count  780.000000     780.000000                780.000000         780.000000   \n",
      "mean    10.149942       1.077132                  0.391194           1.069252   \n",
      "std      2.272779       0.850104                  0.721244           0.070187   \n",
      "min      6.640000       0.021400                  0.000000           0.927530   \n",
      "25%      8.257500       0.449991                  0.065000           1.015442   \n",
      "50%      9.475000       0.817443                  0.250000           1.063432   \n",
      "75%     11.990000       1.503809                  0.400000           1.113556   \n",
      "max     19.930000       5.154387                  5.400000           1.294175   \n",
      "\n",
      "              year  Log_Total_Assets  Core_to_Total_Dep  In_to_Assets_Occr  \\\n",
      "count   780.000000        780.000000         780.000000         780.000000   \n",
      "mean   2007.879487         26.089629           0.779663        3302.441215   \n",
      "std       4.580568          1.418607           0.203706       14763.702794   \n",
      "min    2000.000000         23.767624           0.177950           0.000000   \n",
      "25%    2004.000000         24.830392           0.751752         196.867112   \n",
      "50%    2008.000000         25.909198           0.850668         693.863687   \n",
      "75%    2012.000000         27.336765           0.914279        1757.517892   \n",
      "max    2015.000000         28.577499           0.987452      321445.234772   \n",
      "\n",
      "       In_to_Assets_Disc  In_to_Assets_Acct  Ex_to_Assets_Occr  \\\n",
      "count         780.000000         780.000000         780.000000   \n",
      "mean          521.911837         414.679598         214.552101   \n",
      "std          3013.817968        1942.568292         641.454694   \n",
      "min             0.000000           0.000000           0.000000   \n",
      "25%            51.638501          24.008622          33.972619   \n",
      "50%           200.862716         182.956518          93.880679   \n",
      "75%           424.865880         421.400292         231.192055   \n",
      "max         58865.954116       51844.179567       12771.140502   \n",
      "\n",
      "       Ex_to_Assets_Disc  Ex_to_Assets_Acct  Total_to_Assets_Occr  \\\n",
      "count         780.000000         780.000000            780.000000   \n",
      "mean           11.539070          11.415623           3516.993316   \n",
      "std            83.944298          83.509656          14803.824377   \n",
      "min             0.000000           0.000000              0.000000   \n",
      "25%             0.000000           0.000000            279.763706   \n",
      "50%             0.000000           0.000000            908.504192   \n",
      "75%             5.425233           5.379301           2161.132406   \n",
      "max          2166.058385        2162.971970         322154.154987   \n",
      "\n",
      "       Total_to_Assets_Disc  Total_to_Assets_Acct  In_Exp_to_Assets_OrigA  \\\n",
      "count            780.000000            780.000000              780.000000   \n",
      "mean             533.450907            426.095221              495.559852   \n",
      "std             3018.808452           1946.151707              620.623183   \n",
      "min                0.000000              0.000000                0.000000   \n",
      "25%               52.057186             25.283957              103.071471   \n",
      "50%              206.365107            187.811986              315.816752   \n",
      "75%              438.554907            440.097695              579.244791   \n",
      "max            59008.168385          51844.179567             4015.904413   \n",
      "\n",
      "       In_Exp_to_Assets_OrigD  In_Exp_to_Assets_OccrA  In_Exp_to_Assets_OccrD  \\\n",
      "count              780.000000              780.000000              780.000000   \n",
      "mean               535.738181              495.993668              535.097283   \n",
      "std               2229.516846              618.688481             2228.646932   \n",
      "min                  0.000000                0.000000                0.000000   \n",
      "25%                 78.169259              103.071471               78.169259   \n",
      "50%                285.818063              315.023016              287.712691   \n",
      "75%                502.507259              590.530403              510.798828   \n",
      "max              58912.389226             4015.904413            58912.389226   \n",
      "\n",
      "       Ex_Exp_to_Assets_OrigA  Ex_Exp_to_Assets_OrigD  Ex_Exp_to_Assets_OccrA  \\\n",
      "count              780.000000              780.000000              780.000000   \n",
      "mean                11.580085               11.617168               11.581194   \n",
      "std                 83.100767               83.393851               83.098153   \n",
      "min                  0.000000                0.000000                0.000000   \n",
      "25%                  0.000000                0.000000                0.000000   \n",
      "50%                  0.155001                0.000000                0.155001   \n",
      "75%                  7.361084                6.783120                7.361084   \n",
      "max               2165.189926             2166.958049             2165.189926   \n",
      "\n",
      "       Ex_Exp_to_Assets_OccrD  Total_Exp_to_Assets_OrigA  \\\n",
      "count              780.000000                 780.000000   \n",
      "mean                11.617251                 507.139937   \n",
      "std                 83.390013                 629.447473   \n",
      "min                  0.000000                   0.000000   \n",
      "25%                  0.000000                 106.066045   \n",
      "50%                  0.000000                 326.461448   \n",
      "75%                  6.783120                 597.647996   \n",
      "max               2166.958049                4041.466482   \n",
      "\n",
      "       Total_Exp_to_Assets_OrigD  Total_Exp_to_Assets_OccrA  \\\n",
      "count                 780.000000                 780.000000   \n",
      "mean                  547.355349                 507.574862   \n",
      "std                  2235.977550                 627.280376   \n",
      "min                     0.000000                   0.000000   \n",
      "25%                    82.705441                 106.066045   \n",
      "50%                   294.708611                 324.363319   \n",
      "75%                   517.943878                 603.521522   \n",
      "max                 59054.626027                4041.466482   \n",
      "\n",
      "       Total_Exp_to_Assets_OccrD  \n",
      "count                 780.000000  \n",
      "mean                  546.714534  \n",
      "std                  2235.035406  \n",
      "min                     0.000000  \n",
      "25%                    82.705441  \n",
      "50%                   297.426335  \n",
      "75%                   522.303926  \n",
      "max                 59054.626027  \n"
     ]
    }
   ],
   "source": [
    "# Override max_columns so no summary statistics are truncated\n",
    "pd.options.display.max_columns = 40\n",
    "\n",
    "# Summary statistics\n",
    "print(df.describe())"
   ]
  },
  {
   "cell_type": "markdown",
   "metadata": {},
   "source": [
    "### OLS with Y, X style syntax"
   ]
  },
  {
   "cell_type": "code",
   "execution_count": 4,
   "metadata": {},
   "outputs": [],
   "source": [
    "import statsmodels.regression.linear_model as sm\n",
    "\n",
    "# Define a function to estimate OLS regression\n",
    "def fitOLS(varlist, cov='nonrobust'):\n",
    "    '''\n",
    "    This function uses statsmodels.OLS (uppercase) to estimate OLS regressions\n",
    "    using [Y, X] style syntax as opposed to R-style syntax.\n",
    "    \n",
    "    Args:\n",
    "        varlist (list): A list of variables to include in the regression.\n",
    "        cov      (str): A specific covariance matrix type. Default is 'nonrobust'. \n",
    "                        HC0-HC3 available for heteroskedasticity-robust standard errors.\n",
    "    Returns:\n",
    "        results: A RegressionResults object which summarizes the fit of a linear regression model.\n",
    "    '''\n",
    "    Y = df['Franchise_Value_c']\n",
    "    X = df[['Log_Total_Assets', 'NPAs_Assets_c', 'Net_Interest_Margin_c', 'Core_to_Total_Dep', 'Tier_1_c']]\n",
    "    X = sm.add_constant(X)\n",
    "    for var in varlist:\n",
    "        X = X.assign(new=df['{}'.format(var)])\n",
    "        X.rename(columns={'new': '{}'.format(var)}, inplace=True)\n",
    "    model = sm.OLS(Y, X)\n",
    "    results = model.fit(cov_type='{}'.format(cov))\n",
    "    return results"
   ]
  },
  {
   "cell_type": "code",
   "execution_count": 5,
   "metadata": {
    "scrolled": true
   },
   "outputs": [
    {
     "name": "stdout",
     "output_type": "stream",
     "text": [
      "                            OLS Regression Results                            \n",
      "==============================================================================\n",
      "Dep. Variable:      Franchise_Value_c   R-squared:                       0.539\n",
      "Model:                            OLS   Adj. R-squared:                  0.535\n",
      "Method:                 Least Squares   F-statistic:                     129.1\n",
      "Date:                Thu, 26 Apr 2018   Prob (F-statistic):          2.39e-125\n",
      "Time:                        15:41:17   Log-Likelihood:                 1268.1\n",
      "No. Observations:                 780   AIC:                            -2520.\n",
      "Df Residuals:                     772   BIC:                            -2483.\n",
      "Df Model:                           7                                         \n",
      "Covariance Type:            nonrobust                                         \n",
      "=========================================================================================\n",
      "                            coef    std err          t      P>|t|      [0.025      0.975]\n",
      "-----------------------------------------------------------------------------------------\n",
      "const                     1.2084      0.042     28.849      0.000       1.126       1.291\n",
      "Log_Total_Assets         -0.0016      0.001     -1.120      0.263      -0.004       0.001\n",
      "NPAs_Assets_c            -0.0347      0.002    -14.974      0.000      -0.039      -0.030\n",
      "Net_Interest_Margin_c     0.0204      0.002     11.669      0.000       0.017       0.024\n",
      "Core_to_Total_Dep        -0.0399      0.010     -3.810      0.000      -0.060      -0.019\n",
      "Tier_1_c                 -0.0099      0.001    -11.589      0.000      -0.012      -0.008\n",
      "In_to_Assets_Acct     -1.786e-06   8.89e-07     -2.010      0.045   -3.53e-06   -4.18e-08\n",
      "Ex_to_Assets_Acct     -2.825e-06   2.09e-05     -0.135      0.892   -4.38e-05    3.81e-05\n",
      "==============================================================================\n",
      "Omnibus:                        7.318   Durbin-Watson:                   0.256\n",
      "Prob(Omnibus):                  0.026   Jarque-Bera (JB):                7.463\n",
      "Skew:                           0.232   Prob(JB):                       0.0240\n",
      "Kurtosis:                       2.879   Cond. No.                     4.90e+04\n",
      "==============================================================================\n",
      "\n",
      "Warnings:\n",
      "[1] Standard Errors assume that the covariance matrix of the errors is correctly specified.\n",
      "[2] The condition number is large, 4.9e+04. This might indicate that there are\n",
      "strong multicollinearity or other numerical problems.\n"
     ]
    }
   ],
   "source": [
    "# Fit the model and print results\n",
    "results = fitOLS(['In_to_Assets_Acct', 'Ex_to_Assets_Acct'])\n",
    "print(results.summary())"
   ]
  },
  {
   "cell_type": "code",
   "execution_count": 6,
   "metadata": {
    "scrolled": true
   },
   "outputs": [
    {
     "data": {
      "image/png": "[encoded data removed]",
      "text/plain": [
       "<Figure size 432x288 with 1 Axes>"
      ]
     },
     "metadata": {},
     "output_type": "display_data"
    },
    {
     "data": {
      "image/png": "[encoded data removed]",
      "text/plain": [
       "<Figure size 432x288 with 1 Axes>"
      ]
     },
     "metadata": {},
     "output_type": "display_data"
    },
    {
     "data": {
      "image/png": "[encoded data removed]",
      "text/plain": [
       "<Figure size 432x288 with 1 Axes>"
      ]
     },
     "metadata": {},
     "output_type": "display_data"
    }
   ],
   "source": [
    "'''Diagnostic plots'''\n",
    "\n",
    "import statsmodels.graphics.gofplots as gofplots\n",
    "import matplotlib.pyplot as plt\n",
    "import seaborn as sns\n",
    "%matplotlib inline\n",
    "sns.set_style('darkgrid')\n",
    "\n",
    "# Heteroskedasticity?\n",
    "plt.title('Residuals vs Fitted Values')\n",
    "sns.regplot(results.fittedvalues, results.resid)\n",
    "plt.xlabel('Y-hat')\n",
    "plt.ylabel('Residuals')\n",
    "plt.show()\n",
    "\n",
    "# How are our residuals distributed?\n",
    "plt.title('Density Plot of Residuals')\n",
    "sns.kdeplot(results.resid)\n",
    "plt.show()\n",
    "\n",
    "# How close are our residuals to normality?\n",
    "fig = gofplots.qqplot(results.resid, line='s')\n",
    "plt.title(\"Normal Q-Q plot\")\n",
    "plt.show()"
   ]
  },
  {
   "cell_type": "markdown",
   "metadata": {},
   "source": [
    "### OLS with cluster-robust standard errors and R-style syntax"
   ]
  },
  {
   "cell_type": "code",
   "execution_count": 7,
   "metadata": {},
   "outputs": [],
   "source": [
    "import statsmodels.formula.api as smf\n",
    "\n",
    "# Define function for running regressions with cluster-robust s.e. using R-style syntax\n",
    "def clusterOLS(varstring):\n",
    "    '''\n",
    "    This function uses statsmodels.ols (lowercase) to estimate OLS regressions\n",
    "    using R-style syntax as opposed to [Y, X] style syntax. \n",
    "    Includes two-way clustering on year and ID.\n",
    "    \n",
    "    Args:\n",
    "        varstring (str): A string containing variables to include in the regression.\n",
    "                         e.g. 'In_to_Assets_Occr + Ex_to_Assets_Occr'\n",
    "    Returns:\n",
    "        results: A RegressionResults object which summarizes the fit of a linear regression model.\n",
    "    '''\n",
    "    model = smf.ols(\n",
    "        'Franchise_Value_c ~ Log_Total_Assets + NPAs_Assets_c + Net_Interest_Margin_c + ' \n",
    "        'Core_to_Total_Dep + Tier_1_c + {}'.format(varstring), df)\n",
    "    results = model.fit(cov_type='cluster', cov_kwds={'groups': (df['year'], df['ID'])}, use_t=True)\n",
    "    return results"
   ]
  },
  {
   "cell_type": "code",
   "execution_count": 8,
   "metadata": {
    "scrolled": true
   },
   "outputs": [
    {
     "name": "stderr",
     "output_type": "stream",
     "text": [
      "c:\\econsw\\python36\\lib\\site-packages\\statsmodels\\compat\\pandas.py:56: FutureWarning: The pandas.core.datetools module is deprecated and will be removed in a future version. Please use the pandas.tseries module instead.\n",
      "  from pandas.core import datetools\n"
     ]
    },
    {
     "data": {
      "text/html": [
       "<table class=\"simpletable\">\n",
       "<caption>OLS Regression Results</caption>\n",
       "<tr>\n",
       "  <th>Dep. Variable:</th>    <td>Franchise_Value_c</td> <th>  R-squared:         </th> <td>   0.539</td>\n",
       "</tr>\n",
       "<tr>\n",
       "  <th>Model:</th>                   <td>OLS</td>        <th>  Adj. R-squared:    </th> <td>   0.535</td>\n",
       "</tr>\n",
       "<tr>\n",
       "  <th>Method:</th>             <td>Least Squares</td>   <th>  F-statistic:       </th> <td>  -1249.</td>\n",
       "</tr>\n",
       "<tr>\n",
       "  <th>Date:</th>             <td>Thu, 26 Apr 2018</td>  <th>  Prob (F-statistic):</th>  <td>  1.00</td> \n",
       "</tr>\n",
       "<tr>\n",
       "  <th>Time:</th>                 <td>15:41:18</td>      <th>  Log-Likelihood:    </th> <td>  1268.1</td>\n",
       "</tr>\n",
       "<tr>\n",
       "  <th>No. Observations:</th>      <td>   780</td>       <th>  AIC:               </th> <td>  -2520.</td>\n",
       "</tr>\n",
       "<tr>\n",
       "  <th>Df Residuals:</th>          <td>   772</td>       <th>  BIC:               </th> <td>  -2483.</td>\n",
       "</tr>\n",
       "<tr>\n",
       "  <th>Df Model:</th>              <td>     7</td>       <th>                     </th>     <td> </td>   \n",
       "</tr>\n",
       "<tr>\n",
       "  <th>Covariance Type:</th>       <td>cluster</td>      <th>                     </th>     <td> </td>   \n",
       "</tr>\n",
       "</table>\n",
       "<table class=\"simpletable\">\n",
       "<tr>\n",
       "            <td></td>               <th>coef</th>     <th>std err</th>      <th>t</th>      <th>P>|t|</th>  <th>[0.025</th>    <th>0.975]</th>  \n",
       "</tr>\n",
       "<tr>\n",
       "  <th>Intercept</th>             <td>    1.2084</td> <td>    0.193</td> <td>    6.261</td> <td> 0.000</td> <td>    0.791</td> <td>    1.625</td>\n",
       "</tr>\n",
       "<tr>\n",
       "  <th>Log_Total_Assets</th>      <td>   -0.0016</td> <td>    0.006</td> <td>   -0.258</td> <td> 0.800</td> <td>   -0.015</td> <td>    0.012</td>\n",
       "</tr>\n",
       "<tr>\n",
       "  <th>NPAs_Assets_c</th>         <td>   -0.0347</td> <td>    0.006</td> <td>   -5.997</td> <td> 0.000</td> <td>   -0.047</td> <td>   -0.022</td>\n",
       "</tr>\n",
       "<tr>\n",
       "  <th>Net_Interest_Margin_c</th> <td>    0.0204</td> <td>    0.007</td> <td>    2.770</td> <td> 0.016</td> <td>    0.004</td> <td>    0.036</td>\n",
       "</tr>\n",
       "<tr>\n",
       "  <th>Core_to_Total_Dep</th>     <td>   -0.0399</td> <td>    0.032</td> <td>   -1.249</td> <td> 0.234</td> <td>   -0.109</td> <td>    0.029</td>\n",
       "</tr>\n",
       "<tr>\n",
       "  <th>Tier_1_c</th>              <td>   -0.0099</td> <td>    0.002</td> <td>   -5.062</td> <td> 0.000</td> <td>   -0.014</td> <td>   -0.006</td>\n",
       "</tr>\n",
       "<tr>\n",
       "  <th>In_to_Assets_Acct</th>     <td>-1.786e-06</td> <td> 5.21e-07</td> <td>   -3.429</td> <td> 0.004</td> <td>-2.91e-06</td> <td>-6.61e-07</td>\n",
       "</tr>\n",
       "<tr>\n",
       "  <th>Ex_to_Assets_Acct</th>     <td>-2.825e-06</td> <td> 1.23e-05</td> <td>   -0.229</td> <td> 0.822</td> <td>-2.95e-05</td> <td> 2.38e-05</td>\n",
       "</tr>\n",
       "</table>\n",
       "<table class=\"simpletable\">\n",
       "<tr>\n",
       "  <th>Omnibus:</th>       <td> 7.318</td> <th>  Durbin-Watson:     </th> <td>   0.256</td>\n",
       "</tr>\n",
       "<tr>\n",
       "  <th>Prob(Omnibus):</th> <td> 0.026</td> <th>  Jarque-Bera (JB):  </th> <td>   7.463</td>\n",
       "</tr>\n",
       "<tr>\n",
       "  <th>Skew:</th>          <td> 0.232</td> <th>  Prob(JB):          </th> <td>  0.0240</td>\n",
       "</tr>\n",
       "<tr>\n",
       "  <th>Kurtosis:</th>      <td> 2.879</td> <th>  Cond. No.          </th> <td>4.90e+04</td>\n",
       "</tr>\n",
       "</table>"
      ],
      "text/plain": [
       "<class 'statsmodels.iolib.summary.Summary'>\n",
       "\"\"\"\n",
       "                            OLS Regression Results                            \n",
       "==============================================================================\n",
       "Dep. Variable:      Franchise_Value_c   R-squared:                       0.539\n",
       "Model:                            OLS   Adj. R-squared:                  0.535\n",
       "Method:                 Least Squares   F-statistic:                    -1249.\n",
       "Date:                Thu, 26 Apr 2018   Prob (F-statistic):               1.00\n",
       "Time:                        15:41:18   Log-Likelihood:                 1268.1\n",
       "No. Observations:                 780   AIC:                            -2520.\n",
       "Df Residuals:                     772   BIC:                            -2483.\n",
       "Df Model:                           7                                         \n",
       "Covariance Type:              cluster                                         \n",
       "=========================================================================================\n",
       "                            coef    std err          t      P>|t|      [0.025      0.975]\n",
       "-----------------------------------------------------------------------------------------\n",
       "Intercept                 1.2084      0.193      6.261      0.000       0.791       1.625\n",
       "Log_Total_Assets         -0.0016      0.006     -0.258      0.800      -0.015       0.012\n",
       "NPAs_Assets_c            -0.0347      0.006     -5.997      0.000      -0.047      -0.022\n",
       "Net_Interest_Margin_c     0.0204      0.007      2.770      0.016       0.004       0.036\n",
       "Core_to_Total_Dep        -0.0399      0.032     -1.249      0.234      -0.109       0.029\n",
       "Tier_1_c                 -0.0099      0.002     -5.062      0.000      -0.014      -0.006\n",
       "In_to_Assets_Acct     -1.786e-06   5.21e-07     -3.429      0.004   -2.91e-06   -6.61e-07\n",
       "Ex_to_Assets_Acct     -2.825e-06   1.23e-05     -0.229      0.822   -2.95e-05    2.38e-05\n",
       "==============================================================================\n",
       "Omnibus:                        7.318   Durbin-Watson:                   0.256\n",
       "Prob(Omnibus):                  0.026   Jarque-Bera (JB):                7.463\n",
       "Skew:                           0.232   Prob(JB):                       0.0240\n",
       "Kurtosis:                       2.879   Cond. No.                     4.90e+04\n",
       "==============================================================================\n",
       "\n",
       "Warnings:\n",
       "[1] Standard Errors are robust tocluster correlation (cluster)\n",
       "[2] The condition number is large, 4.9e+04. This might indicate that there are\n",
       "strong multicollinearity or other numerical problems.\n",
       "\"\"\""
      ]
     },
     "execution_count": 8,
     "metadata": {},
     "output_type": "execute_result"
    }
   ],
   "source": [
    "results = clusterOLS(\"In_to_Assets_Acct + Ex_to_Assets_Acct\")\n",
    "# Instead of printing the summary I call the method directly, which has formatting implications in Jupyter Notebooks\n",
    "results.summary()"
   ]
  },
  {
   "cell_type": "markdown",
   "metadata": {},
   "source": [
    "### Two-way fixed effects"
   ]
  },
  {
   "cell_type": "code",
   "execution_count": 9,
   "metadata": {},
   "outputs": [
    {
     "name": "stdout",
     "output_type": "stream",
     "text": [
      "Dimensions should be (780, 37):  (780, 37)\n"
     ]
    }
   ],
   "source": [
    "# Linearmodels extends statsmodels, adding capabilities for panel regression, \n",
    "# IV estimators, system estimators, and factor asset pricing models\n",
    "from linearmodels.panel import PanelOLS\n",
    "\n",
    "# Set hierarchical index for fixed effects estimation [entity, time]\n",
    "df = df.set_index(['ID', 'Date'])\n",
    "\n",
    "# add constant\n",
    "df = sm.add_constant(df)\n",
    "print(\"Dimensions should be (780, 37): \", df.shape)"
   ]
  },
  {
   "cell_type": "code",
   "execution_count": 10,
   "metadata": {
    "scrolled": true
   },
   "outputs": [
    {
     "name": "stdout",
     "output_type": "stream",
     "text": [
      "                          PanelOLS Estimation Summary                           \n",
      "================================================================================\n",
      "Dep. Variable:      Franchise_Value_c   R-squared:                        0.2361\n",
      "Estimator:                   PanelOLS   R-squared (Between):             -1.9533\n",
      "No. Observations:                 780   R-squared (Within):               0.5706\n",
      "Date:                Thu, Apr 26 2018   R-squared (Overall):             -0.2176\n",
      "Time:                        15:41:19   Log-likelihood                    1831.7\n",
      "Cov. Estimator:            Unadjusted                                           \n",
      "                                        F-statistic:                      30.726\n",
      "Entities:                          14   P-value                           0.0000\n",
      "Avg Obs:                       55.714   Distribution:                   F(7,696)\n",
      "Min Obs:                       6.0000                                           \n",
      "Max Obs:                       64.000   F-statistic (robust):             30.726\n",
      "                                        P-value                           0.0000\n",
      "Time periods:                      64   Distribution:                   F(7,696)\n",
      "Avg Obs:                       12.188                                           \n",
      "Min Obs:                       9.0000                                           \n",
      "Max Obs:                       14.000                                           \n",
      "                                                                                \n",
      "                                   Parameter Estimates                                   \n",
      "=========================================================================================\n",
      "                      Parameters  Std. Err.     T-stat    P-value    Lower CI    Upper CI\n",
      "-----------------------------------------------------------------------------------------\n",
      "const                     2.0393     0.1147     17.786     0.0000      1.8142      2.2644\n",
      "Log_Total_Assets         -0.0385     0.0043    -8.8588     0.0000     -0.0470     -0.0299\n",
      "NPAs_Assets_c            -0.0065     0.0023    -2.8347     0.0047     -0.0110     -0.0020\n",
      "Net_Interest_Margin_c     0.0233     0.0024     9.9185     0.0000      0.0187      0.0279\n",
      "Core_to_Total_Dep        -0.0191     0.0178    -1.0727     0.2838     -0.0540      0.0158\n",
      "Tier_1_c                 -0.0027     0.0009    -2.9935     0.0029     -0.0044     -0.0009\n",
      "In_to_Assets_Acct     -1.651e-07  4.783e-07    -0.3452     0.7300  -1.104e-06   7.739e-07\n",
      "Ex_to_Assets_Acct     -1.878e-05  1.119e-05    -1.6787     0.0937  -4.074e-05   3.184e-06\n",
      "=========================================================================================\n",
      "\n",
      "F-test for Poolability: 29.698\n",
      "P-value: 0.0000\n",
      "Distribution: F(76,696)\n",
      "\n",
      "Included effects: Entity, Time\n"
     ]
    },
    {
     "name": "stderr",
     "output_type": "stream",
     "text": [
      "c:\\econsw\\python36\\lib\\site-packages\\linearmodels\\panel\\data.py:258: FutureWarning: `rcond` parameter will change to the default of machine precision times ``max(M, N)`` where M and N are the input matrix dimensions.\n",
      "To use the future default and silence this warning we advise to pass `rcond=None`, to keep using the old, explicitly pass `rcond=-1`.\n",
      "  resid = e - d @ np.linalg.lstsq(d, e)[0]\n",
      "c:\\econsw\\python36\\lib\\site-packages\\linearmodels\\panel\\model.py:1020: FutureWarning: `rcond` parameter will change to the default of machine precision times ``max(M, N)`` where M and N are the input matrix dimensions.\n",
      "To use the future default and silence this warning we advise to pass `rcond=None`, to keep using the old, explicitly pass `rcond=-1`.\n",
      "  params = np.linalg.lstsq(x, y)[0]\n",
      "c:\\econsw\\python36\\lib\\site-packages\\linearmodels\\panel\\model.py:1076: FutureWarning: `rcond` parameter will change to the default of machine precision times ``max(M, N)`` where M and N are the input matrix dimensions.\n",
      "To use the future default and silence this warning we advise to pass `rcond=None`, to keep using the old, explicitly pass `rcond=-1`.\n",
      "  weps_pooled = wy - wx @ np.linalg.lstsq(wx, wy)[0]\n"
     ]
    }
   ],
   "source": [
    "# PanelOLS is a function already defined in the linearmodels package\n",
    "# I use [Y, X] style syntax, though R syntax is possible using from_formula\n",
    "model = PanelOLS(df.Franchise_Value_c, \n",
    "                 df[['const', 'Log_Total_Assets', 'NPAs_Assets_c', \n",
    "                     'Net_Interest_Margin_c', 'Core_to_Total_Dep', \n",
    "                     'Tier_1_c', 'In_to_Assets_Acct', 'Ex_to_Assets_Acct']], \n",
    "                 entity_effects=True, time_effects=True)\n",
    "results = model.fit()\n",
    "print(results)"
   ]
  },
  {
   "cell_type": "code",
   "execution_count": 11,
   "metadata": {
    "scrolled": true
   },
   "outputs": [
    {
     "name": "stdout",
     "output_type": "stream",
     "text": [
      "                          PanelOLS Estimation Summary                           \n",
      "================================================================================\n",
      "Dep. Variable:      Franchise_Value_c   R-squared:                        0.2361\n",
      "Estimator:                   PanelOLS   R-squared (Between):             -1.9533\n",
      "No. Observations:                 780   R-squared (Within):               0.5706\n",
      "Date:                Thu, Apr 26 2018   R-squared (Overall):             -0.2176\n",
      "Time:                        15:41:19   Log-likelihood                    1831.7\n",
      "Cov. Estimator:             Clustered                                           \n",
      "                                        F-statistic:                      30.726\n",
      "Entities:                          14   P-value                           0.0000\n",
      "Avg Obs:                       55.714   Distribution:                   F(7,696)\n",
      "Min Obs:                       6.0000                                           \n",
      "Max Obs:                       64.000   F-statistic (robust):             44.100\n",
      "                                        P-value                           0.0000\n",
      "Time periods:                      64   Distribution:                   F(7,696)\n",
      "Avg Obs:                       12.188                                           \n",
      "Min Obs:                       9.0000                                           \n",
      "Max Obs:                       14.000                                           \n",
      "                                                                                \n",
      "                                   Parameter Estimates                                   \n",
      "=========================================================================================\n",
      "                      Parameters  Std. Err.     T-stat    P-value    Lower CI    Upper CI\n",
      "-----------------------------------------------------------------------------------------\n",
      "const                     2.0393     0.0916     22.274     0.0000      1.8596      2.2191\n",
      "Log_Total_Assets         -0.0385     0.0034    -11.241     0.0000     -0.0452     -0.0317\n",
      "NPAs_Assets_c            -0.0065     0.0021    -3.0644     0.0023     -0.0107     -0.0023\n",
      "Net_Interest_Margin_c     0.0233     0.0027     8.7433     0.0000      0.0181      0.0286\n",
      "Core_to_Total_Dep        -0.0191     0.0211    -0.9031     0.3668     -0.0605      0.0224\n",
      "Tier_1_c                 -0.0027     0.0010    -2.6356     0.0086     -0.0047     -0.0007\n",
      "In_to_Assets_Acct     -1.651e-07  9.421e-08    -1.7527     0.0801  -3.501e-07   1.985e-08\n",
      "Ex_to_Assets_Acct     -1.878e-05  7.931e-06    -2.3676     0.0182  -3.435e-05  -3.206e-06\n",
      "=========================================================================================\n",
      "\n",
      "F-test for Poolability: 29.698\n",
      "P-value: 0.0000\n",
      "Distribution: F(76,696)\n",
      "\n",
      "Included effects: Entity, Time\n"
     ]
    },
    {
     "name": "stderr",
     "output_type": "stream",
     "text": [
      "c:\\econsw\\python36\\lib\\site-packages\\linearmodels\\panel\\data.py:258: FutureWarning: `rcond` parameter will change to the default of machine precision times ``max(M, N)`` where M and N are the input matrix dimensions.\n",
      "To use the future default and silence this warning we advise to pass `rcond=None`, to keep using the old, explicitly pass `rcond=-1`.\n",
      "  resid = e - d @ np.linalg.lstsq(d, e)[0]\n",
      "c:\\econsw\\python36\\lib\\site-packages\\linearmodels\\panel\\model.py:1020: FutureWarning: `rcond` parameter will change to the default of machine precision times ``max(M, N)`` where M and N are the input matrix dimensions.\n",
      "To use the future default and silence this warning we advise to pass `rcond=None`, to keep using the old, explicitly pass `rcond=-1`.\n",
      "  params = np.linalg.lstsq(x, y)[0]\n",
      "c:\\econsw\\python36\\lib\\site-packages\\linearmodels\\panel\\model.py:1076: FutureWarning: `rcond` parameter will change to the default of machine precision times ``max(M, N)`` where M and N are the input matrix dimensions.\n",
      "To use the future default and silence this warning we advise to pass `rcond=None`, to keep using the old, explicitly pass `rcond=-1`.\n",
      "  weps_pooled = wy - wx @ np.linalg.lstsq(wx, wy)[0]\n"
     ]
    }
   ],
   "source": [
    "# You can also specify cluster-robust s.e. in a FE model\n",
    "model = PanelOLS(df.Franchise_Value_c, \n",
    "                 df[['const', 'Log_Total_Assets', 'NPAs_Assets_c', \n",
    "                     'Net_Interest_Margin_c', 'Core_to_Total_Dep', \n",
    "                     'Tier_1_c', 'In_to_Assets_Acct', 'Ex_to_Assets_Acct']], \n",
    "                 entity_effects=True, time_effects=True)\n",
    "results = model.fit(cov_type='clustered', cluster_entity=False, cluster_time=True)\n",
    "print(results)"
   ]
  },
  {
   "cell_type": "code",
   "execution_count": 14,
   "metadata": {},
   "outputs": [
    {
     "data": {
      "text/plain": [
       "<matplotlib.axes._subplots.AxesSubplot at 0x1c229d68>"
      ]
     },
     "execution_count": 14,
     "metadata": {},
     "output_type": "execute_result"
    },
    {
     "data": {
      "image/png": "[encoded data removed]",
      "text/plain": [
       "<Figure size 432x288 with 1 Axes>"
      ]
     },
     "metadata": {},
     "output_type": "display_data"
    }
   ],
   "source": [
    "# Using similar but distinct packages can be annoying\n",
    "# .resid in statsmodels == .residS in linearmodels\n",
    "sns.kdeplot(results.resids)"
   ]
  }
 ],
 "metadata": {
  "kernelspec": {
   "display_name": "Python 3",
   "language": "python",
   "name": "python3"
  },
  "language_info": {
   "codemirror_mode": {
    "name": "ipython",
    "version": 3
   },
   "file_extension": ".py",
   "mimetype": "text/x-python",
   "name": "python",
   "nbconvert_exporter": "python",
   "pygments_lexer": "ipython3",
   "version": "3.6.2"
  }
 },
 "nbformat": 4,
 "nbformat_minor": 2
}
